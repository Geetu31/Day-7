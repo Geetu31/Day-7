{
 "cells": [
  {
   "cell_type": "code",
   "execution_count": null,
   "id": "2b62c964",
   "metadata": {},
   "outputs": [],
   "source": [
    "Introduction to conditional statements:"
   ]
  },
  {
   "cell_type": "code",
   "execution_count": null,
   "id": "123c5a98",
   "metadata": {},
   "outputs": [],
   "source": [
    "By occurance of certain condition output will be decided."
   ]
  },
  {
   "cell_type": "code",
   "execution_count": null,
   "id": "4c7b95be",
   "metadata": {},
   "outputs": [],
   "source": []
  },
  {
   "cell_type": "code",
   "execution_count": 1,
   "id": "71b8caf8",
   "metadata": {},
   "outputs": [],
   "source": [
    "cars = ['maruthi','kia','bmw','audi','benz'] "
   ]
  },
  {
   "cell_type": "code",
   "execution_count": 2,
   "id": "f8815346",
   "metadata": {},
   "outputs": [
    {
     "name": "stdout",
     "output_type": "stream",
     "text": [
      "['maruthi', 'kia', 'bmw', 'audi', 'benz']\n"
     ]
    }
   ],
   "source": [
    "print(cars)"
   ]
  },
  {
   "cell_type": "code",
   "execution_count": 4,
   "id": "9bc38dca",
   "metadata": {},
   "outputs": [
    {
     "name": "stdout",
     "output_type": "stream",
     "text": [
      "Maruthi\n",
      "Kia\n",
      "BMW\n",
      "Audi\n",
      "Benz\n"
     ]
    }
   ],
   "source": [
    "for x in cars:             # If I want to print all cars in title except bmw in upper case\n",
    "    if x =='bmw':\n",
    "        print(x.upper())\n",
    "    else:\n",
    "        print(x.title())\n"
   ]
  },
  {
   "cell_type": "code",
   "execution_count": null,
   "id": "d4dbd58b",
   "metadata": {},
   "outputs": [],
   "source": [
    "#accepting the input from user\n"
   ]
  },
  {
   "cell_type": "code",
   "execution_count": null,
   "id": "5729e0fe",
   "metadata": {},
   "outputs": [],
   "source": [
    "#input......>is the keyword that will be used for this purpose."
   ]
  },
  {
   "cell_type": "code",
   "execution_count": 7,
   "id": "26df27d5",
   "metadata": {},
   "outputs": [
    {
     "name": "stdout",
     "output_type": "stream",
     "text": [
      "tell me something and I will repeat after youHi\n",
      "Hi\n"
     ]
    }
   ],
   "source": [
    "message = input(\"tell me something and I will repeat after you\")\n",
    "print(message)\n"
   ]
  },
  {
   "cell_type": "code",
   "execution_count": null,
   "id": "1d97d963",
   "metadata": {},
   "outputs": [],
   "source": [
    "#greeting the user"
   ]
  },
  {
   "cell_type": "code",
   "execution_count": 1,
   "id": "bbb06157",
   "metadata": {},
   "outputs": [
    {
     "name": "stdout",
     "output_type": "stream",
     "text": [
      "please enter your nameMeera\n",
      "Hello welcome to Amazon, Meera\n"
     ]
    }
   ],
   "source": [
    "prompt = input(\"please enter your name\")\n",
    "print(f\"Hello welcome to Amazon, {prompt}\")"
   ]
  },
  {
   "cell_type": "code",
   "execution_count": 2,
   "id": "41ffbf12",
   "metadata": {},
   "outputs": [],
   "source": [
    "# to validate your age"
   ]
  },
  {
   "cell_type": "code",
   "execution_count": 3,
   "id": "e35112f4",
   "metadata": {},
   "outputs": [
    {
     "name": "stdout",
     "output_type": "stream",
     "text": [
      "enter your age24\n",
      "24\n"
     ]
    }
   ],
   "source": [
    "age = input(\"enter your age\")\n",
    "print(age)"
   ]
  },
  {
   "cell_type": "code",
   "execution_count": 4,
   "id": "566198b0",
   "metadata": {},
   "outputs": [],
   "source": [
    "#to validate the age"
   ]
  },
  {
   "cell_type": "markdown",
   "id": "c71116c2",
   "metadata": {},
   "source": []
  },
  {
   "cell_type": "code",
   "execution_count": 5,
   "id": "f394da60",
   "metadata": {},
   "outputs": [
    {
     "ename": "TypeError",
     "evalue": "'>' not supported between instances of 'str' and 'int'",
     "output_type": "error",
     "traceback": [
      "\u001b[0;31m---------------------------------------------------------------------------\u001b[0m",
      "\u001b[0;31mTypeError\u001b[0m                                 Traceback (most recent call last)",
      "\u001b[0;32m<ipython-input-5-f249b2a2421b>\u001b[0m in \u001b[0;36m<module>\u001b[0;34m\u001b[0m\n\u001b[0;32m----> 1\u001b[0;31m \u001b[0mage\u001b[0m \u001b[0;34m>\u001b[0m \u001b[0;36m18\u001b[0m\u001b[0;34m\u001b[0m\u001b[0;34m\u001b[0m\u001b[0m\n\u001b[0m",
      "\u001b[0;31mTypeError\u001b[0m: '>' not supported between instances of 'str' and 'int'"
     ]
    }
   ],
   "source": [
    "age > 18"
   ]
  },
  {
   "cell_type": "code",
   "execution_count": 6,
   "id": "6a9b383d",
   "metadata": {},
   "outputs": [
    {
     "data": {
      "text/plain": [
       "str"
      ]
     },
     "execution_count": 6,
     "metadata": {},
     "output_type": "execute_result"
    }
   ],
   "source": [
    "type(age)"
   ]
  },
  {
   "cell_type": "code",
   "execution_count": null,
   "id": "b62df938",
   "metadata": {},
   "outputs": [],
   "source": [
    "typecasting of the datatypes\n",
    "converting the data from one type to another type:"
   ]
  },
  {
   "cell_type": "code",
   "execution_count": 7,
   "id": "105ec209",
   "metadata": {},
   "outputs": [
    {
     "name": "stdout",
     "output_type": "stream",
     "text": [
      "enter your age25\n"
     ]
    }
   ],
   "source": [
    "age = input(\"enter your age\")\n",
    "age = int(age)"
   ]
  },
  {
   "cell_type": "code",
   "execution_count": 8,
   "id": "771afe96",
   "metadata": {},
   "outputs": [
    {
     "data": {
      "text/plain": [
       "True"
      ]
     },
     "execution_count": 8,
     "metadata": {},
     "output_type": "execute_result"
    }
   ],
   "source": [
    "age > 18\n"
   ]
  },
  {
   "cell_type": "code",
   "execution_count": 9,
   "id": "979966cf",
   "metadata": {},
   "outputs": [
    {
     "data": {
      "text/plain": [
       "int"
      ]
     },
     "execution_count": 9,
     "metadata": {},
     "output_type": "execute_result"
    }
   ],
   "source": [
    "type(age)"
   ]
  },
  {
   "cell_type": "code",
   "execution_count": 10,
   "id": "f321d069",
   "metadata": {},
   "outputs": [],
   "source": [
    "#building a simple voting application:"
   ]
  },
  {
   "cell_type": "code",
   "execution_count": 12,
   "id": "a66e9277",
   "metadata": {},
   "outputs": [
    {
     "name": "stdout",
     "output_type": "stream",
     "text": [
      "plz enter your age15\n",
      "you are not eligible to vote\n"
     ]
    }
   ],
   "source": [
    "age = input(\"plz enter your age\")\n",
    "age = int(age)\n",
    "if age >= 18:\n",
    "    print(\"you are eligible to vote\")\n",
    "else:\n",
    "    print(\"you are not eligible to vote\")"
   ]
  },
  {
   "cell_type": "code",
   "execution_count": null,
   "id": "95fb10ef",
   "metadata": {},
   "outputs": [],
   "source": []
  }
 ],
 "metadata": {
  "kernelspec": {
   "display_name": "Python 3",
   "language": "python",
   "name": "python3"
  },
  "language_info": {
   "codemirror_mode": {
    "name": "ipython",
    "version": 3
   },
   "file_extension": ".py",
   "mimetype": "text/x-python",
   "name": "python",
   "nbconvert_exporter": "python",
   "pygments_lexer": "ipython3",
   "version": "3.6.13"
  }
 },
 "nbformat": 4,
 "nbformat_minor": 5
}
